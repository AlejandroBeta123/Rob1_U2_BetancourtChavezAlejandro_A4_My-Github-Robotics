{
 "cells": [
  {
   "cell_type": "code",
   "execution_count": 15,
   "id": "d9ae8c11-bbb0-4f4a-b9c7-79c2f6981188",
   "metadata": {},
   "outputs": [
    {
     "name": "stdout",
     "output_type": "stream",
     "text": [
      "Punto en 3D: (1, 2, 0)\n"
     ]
    }
   ],
   "source": [
    "def convertir_a_3D(x,y):\n",
    "    return (x,y,0)\n",
    "\n",
    "punto_3D = convertir_a_3D(1,2)\n",
    "print(\"Punto en 3D:\", punto_3D)"
   ]
  },
  {
   "cell_type": "code",
   "execution_count": null,
   "id": "afbbded6-bddb-41b8-a159-8ade525f75cc",
   "metadata": {},
   "outputs": [],
   "source": [
    "Reto: Modifica la funcion para aceptar una lista de funcion"
   ]
  },
  {
   "cell_type": "code",
   "execution_count": 17,
   "id": "805f9117-401e-4097-8534-11ee8f851c0c",
   "metadata": {},
   "outputs": [
    {
     "name": "stdout",
     "output_type": "stream",
     "text": [
      "Puntos en 3D: [(1, 2, 0), (3, 4, 0), (5, 6, 0)]\n"
     ]
    }
   ],
   "source": [
    "def convertir_a_3D(puntos_2D):\n",
    "    # Recorre cada par (x, y) y devuelve una lista de tuplas (x, y, 0)\n",
    "    return [(x, y, 0) for x, y in puntos_2D]\n",
    "\n",
    "# Lista de puntos 2D\n",
    "puntos = [(1, 2), (3, 4), (5, 6)]\n",
    "\n",
    "# Llamada a la función para convertirlos a 3D\n",
    "puntos_3D = convertir_a_3D(puntos)\n",
    "\n",
    "# Mostrar el resultado\n",
    "print(\"Puntos en 3D:\", puntos_3D)"
   ]
  },
  {
   "cell_type": "code",
   "execution_count": null,
   "id": "d23c13e4-c8a4-481f-b3f5-9cf6391c3200",
   "metadata": {},
   "outputs": [],
   "source": [
    "Ejercicio 1 - Crear una matriz de transformacion homogenea, genera una transformacion que represente una traslacion de\n",
    "(3,2,1) y una rotacion de 90"
   ]
  },
  {
   "cell_type": "code",
   "execution_count": 8,
   "id": "5f716d3a-6272-403c-9d76-f2c2abf96602",
   "metadata": {},
   "outputs": [
    {
     "name": "stdout",
     "output_type": "stream",
     "text": [
      "[[1 0 0 3]\n",
      " [0 1 0 2]\n",
      " [0 0 1 1]\n",
      " [0 0 0 1]]\n"
     ]
    }
   ],
   "source": [
    "import numpy as np\n",
    "\n",
    "def matriz_transformacion(tx, ty, tz, Rz_deg):\n",
    "    theta = np.radians(Rz_deg)\n",
    "    \n",
    "    # Matriz de rotación alrededor del eje Z\n",
    "    Rz = np.array([[np.cos(theta), -np.sin(theta), 0],\n",
    "                   [np.sin(theta), np.cos(theta), 0],\n",
    "                   [0, 0, 1]])\n",
    "    \n",
    "    # Matriz de transformación homogénea (4x4)\n",
    "    T = np.array([[1, 0, 0, tx],\n",
    "                 [0, 1, 0, ty],\n",
    "                 [0, 0, 1, tz],\n",
    "                 [0, 0, 0, 1]]) \n",
    "    return T\n",
    "T = matriz_transformacion(3, 2, 1, 90)\n",
    "print(T)\n"
   ]
  },
  {
   "cell_type": "code",
   "execution_count": null,
   "id": "2505a9ed-47f4-43c9-98fb-67447b5dfb6c",
   "metadata": {},
   "outputs": [],
   "source": [
    "Reto: Cambia el codigo para aceptar rotaciones en X, Y, y Z."
   ]
  },
  {
   "cell_type": "code",
   "execution_count": 9,
   "id": "2d9b680c-dd63-48a9-bf9a-e6b2efe78aed",
   "metadata": {},
   "outputs": [
    {
     "name": "stdout",
     "output_type": "stream",
     "text": [
      "Matriz de transformación homogénea:\n",
      "[[ 0. -1.  0.  3.]\n",
      " [ 1.  0.  0.  2.]\n",
      " [ 0.  0.  1.  1.]\n",
      " [ 0.  0.  0.  1.]]\n"
     ]
    }
   ],
   "source": [
    "import numpy as np\n",
    "\n",
    "def matriz_transformacion(tx, ty, tz, Rx_deg, Ry_deg, Rz_deg):\n",
    "    # Convertir los ángulos de grados a radianes\n",
    "    Rx = np.radians(Rx_deg)\n",
    "    Ry = np.radians(Ry_deg)\n",
    "    Rz = np.radians(Rz_deg)\n",
    "    \n",
    "    # Matriz de rotación en X\n",
    "    R_x = np.array([\n",
    "        [1, 0, 0],\n",
    "        [0, np.cos(Rx), -np.sin(Rx)],\n",
    "        [0, np.sin(Rx), np.cos(Rx)]\n",
    "    ])\n",
    "    \n",
    "    # Matriz de rotación en Y\n",
    "    R_y = np.array([\n",
    "        [np.cos(Ry), 0, np.sin(Ry)],\n",
    "        [0, 1, 0],\n",
    "        [-np.sin(Ry), 0, np.cos(Ry)]\n",
    "    ])\n",
    "    \n",
    "    # Matriz de rotación en Z\n",
    "    R_z = np.array([\n",
    "        [np.cos(Rz), -np.sin(Rz), 0],\n",
    "        [np.sin(Rz),  np.cos(Rz), 0],\n",
    "        [0, 0, 1]\n",
    "    ])\n",
    "    \n",
    "    # Rotación compuesta (Z * Y * X)\n",
    "    R = R_z @ R_y @ R_x\n",
    "    \n",
    "    # Matriz de transformación homogénea (4x4)\n",
    "    T = np.array([\n",
    "        [R[0,0], R[0,1], R[0,2], tx],\n",
    "        [R[1,0], R[1,1], R[1,2], ty],\n",
    "        [R[2,0], R[2,1], R[2,2], tz],\n",
    "        [0, 0, 0, 1]\n",
    "    ])\n",
    "    \n",
    "    # Redondear a 3 decimales para una salida limpia\n",
    "    T = np.round(T, 3)\n",
    "    \n",
    "    return T\n",
    "T = matriz_transformacion(3, 2, 1, 0, 0, 90)\n",
    "print(\"Matriz de transformación homogénea:\")\n",
    "print(T)\n"
   ]
  },
  {
   "cell_type": "code",
   "execution_count": null,
   "id": "92e62d17-d027-47c4-ba0c-38305247a046",
   "metadata": {},
   "outputs": [],
   "source": [
    "Ejercicio - 2: Aplicar una transformacion a un punto. Transforma el punto (1, 0, 0) usando la matriz homogenea del ejercicio anterior"
   ]
  },
  {
   "cell_type": "code",
   "execution_count": 10,
   "id": "65e90011-967d-4644-b6de-36b9389f19ed",
   "metadata": {},
   "outputs": [
    {
     "name": "stdout",
     "output_type": "stream",
     "text": [
      "Punto transformado [3. 3. 1.]\n"
     ]
    }
   ],
   "source": [
    "punto = np.array([1, 0, 0, 1]) #Coordenadas homogeneas\n",
    "punto_transformado = T @ punto #MULTIPLICACION DE MATRICES\n",
    "print(\"Punto transformado\", punto_transformado[:3])"
   ]
  },
  {
   "cell_type": "code",
   "execution_count": null,
   "id": "fcced2c4-23d1-4f96-994b-77ef7ce7b980",
   "metadata": {},
   "outputs": [],
   "source": [
    "Reto: Aplica varias transformaciones encadenadas"
   ]
  },
  {
   "cell_type": "code",
   "execution_count": 11,
   "id": "6a8a5d31-6d77-4a2a-9894-fc3b3ce95290",
   "metadata": {},
   "outputs": [
    {
     "name": "stdout",
     "output_type": "stream",
     "text": [
      "Matriz de transformación encadenada:\n",
      "[[ 0.354 -0.866  0.354  3.658]\n",
      " [ 0.707  0.    -0.707  1.707]\n",
      " [ 0.612  0.5    0.612  2.069]\n",
      " [ 0.     0.     0.     1.   ]]\n",
      "\n",
      "Punto original: [1 0 0]\n",
      "Punto transformado final: [4.012 2.414 2.681]\n"
     ]
    }
   ],
   "source": [
    "import numpy as np\n",
    "\n",
    "def matriz_transformacion(tx, ty, tz, Rx_deg, Ry_deg, Rz_deg):\n",
    "    # Convertir grados a radianes\n",
    "    Rx = np.radians(Rx_deg)\n",
    "    Ry = np.radians(Ry_deg)\n",
    "    Rz = np.radians(Rz_deg)\n",
    "\n",
    "    # Rotación en X\n",
    "    R_x = np.array([\n",
    "        [1, 0, 0],\n",
    "        [0, np.cos(Rx), -np.sin(Rx)],\n",
    "        [0, np.sin(Rx), np.cos(Rx)]\n",
    "    ])\n",
    "    # Rotación en Y\n",
    "    R_y = np.array([\n",
    "        [np.cos(Ry), 0, np.sin(Ry)],\n",
    "        [0, 1, 0],\n",
    "        [-np.sin(Ry), 0, np.cos(Ry)]\n",
    "    ])\n",
    "    # Rotación en Z\n",
    "    R_z = np.array([\n",
    "        [np.cos(Rz), -np.sin(Rz), 0],\n",
    "        [np.sin(Rz), np.cos(Rz), 0],\n",
    "        [0, 0, 1]\n",
    "    ])\n",
    "    \n",
    "    # Rotación total\n",
    "    R = R_z @ R_y @ R_x\n",
    "\n",
    "    # Matriz homogénea\n",
    "    T = np.array([\n",
    "        [R[0,0], R[0,1], R[0,2], tx],\n",
    "        [R[1,0], R[1,1], R[1,2], ty],\n",
    "        [R[2,0], R[2,1], R[2,2], tz],\n",
    "        [0, 0, 0, 1]\n",
    "    ])\n",
    "    return np.round(T, 3)\n",
    "\n",
    "#TRANSFORMACIONES INDIVIDUALES\n",
    "#Primera transformación: rotar 90° en Z y trasladar (3, 2, 1)\n",
    "T1 = matriz_transformacion(3, 2, 1, 0, 0, 90)\n",
    "\n",
    "#Segunda transformación: rotar 45° en X y trasladar (0, 0, 2)\n",
    "T2 = matriz_transformacion(0, 0, 2, 45, 0, 0)\n",
    "\n",
    "#Tercera transformación: rotar 30° en Y y trasladar (-1, 1, 0)\n",
    "T3 = matriz_transformacion(-1, 1, 0, 0, 30, 0)\n",
    "\n",
    "#TRANSFORMACIÓN TOTAL (encadenada)\n",
    "T_total = T3 @ T2 @ T1\n",
    "\n",
    "print(\"Matriz de transformación encadenada:\")\n",
    "print(np.round(T_total, 3))\n",
    "\n",
    "#Aplicar al punto\n",
    "punto = np.array([1, 0, 0, 1])\n",
    "punto_transformado = T_total @ punto\n",
    "\n",
    "print(\"\\nPunto original:\", punto[:3])\n",
    "print(\"Punto transformado final:\", np.round(punto_transformado[:3], 3))\n"
   ]
  },
  {
   "cell_type": "code",
   "execution_count": null,
   "id": "b04e89d6-7bbb-4367-8db1-fecde7045d0c",
   "metadata": {},
   "outputs": [],
   "source": [
    "Generar una matriz de rotacion de 90 grados al rededor del eje z y aplicala a un punto (2,0,0)"
   ]
  },
  {
   "cell_type": "code",
   "execution_count": 18,
   "id": "bd714448-5cfa-4135-ae6e-5db089478231",
   "metadata": {},
   "outputs": [
    {
     "name": "stdout",
     "output_type": "stream",
     "text": [
      "Matriz de rotación (90° alrededor del eje Z):\n",
      " [[ 0. -1.  0.]\n",
      " [ 1.  0.  0.]\n",
      " [ 0.  0.  1.]]\n",
      "\n",
      "Punto original: [2 0 0]\n",
      "Punto rotado: [0. 2. 0.]\n"
     ]
    }
   ],
   "source": [
    "import numpy as np\n",
    "# Crear una matriz de rotación de 90° alrededor del eje Z\n",
    "# Convertimos 90° a radianes, ya que las funciones trigonométricas de NumPy usan radianes\n",
    "theta = np.radians(90)\n",
    "\n",
    "# Definimos la matriz de rotación en Z (rotación antihoraria en el plano XY)\n",
    "Rz = np.array([\n",
    "    [np.cos(theta), -np.sin(theta), 0],  # Primera fila\n",
    "    [np.sin(theta),  np.cos(theta), 0],  # Segunda fila\n",
    "    [0,              0,             1]   # Tercera fila (el eje Z no cambia)\n",
    "])\n",
    "# Definir el punto a rotar\n",
    "# ------------------------------\n",
    "punto = np.array([2, 0, 0])  # Punto en el espacio (x=2, y=0, z=0)\n",
    "\n",
    "# Aplicar la rotación\n",
    "punto_rotado = Rz @ punto  # Multiplicamos la matriz de rotación por el vector\n",
    "# Mostrar resultados\n",
    "print(\"Matriz de rotación (90° alrededor del eje Z):\\n\", np.round(Rz, 3))\n",
    "print(\"\\nPunto original:\", punto)\n",
    "print(\"Punto rotado:\", np.round(punto_rotado, 3))"
   ]
  },
  {
   "cell_type": "code",
   "execution_count": 20,
   "id": "f1efc047-4234-4c4d-b14c-2025cd6f948f",
   "metadata": {},
   "outputs": [
    {
     "name": "stdout",
     "output_type": "stream",
     "text": [
      "Vector de posición original: [3 4 0]\n",
      "\n",
      "Matriz de rotación Rz (45° alrededor del eje Z):\n",
      " [[ 0.707 -0.707  0.   ]\n",
      " [ 0.707  0.707  0.   ]\n",
      " [ 0.     0.     1.   ]]\n",
      "\n",
      "Vector rotado: [-0.707  4.95   0.   ]\n"
     ]
    },
    {
     "data": {
      "image/png": "[encoded data removed]",
      "text/plain": [
       "<Figure size 600x600 with 1 Axes>"
      ]
     },
     "metadata": {},
     "output_type": "display_data"
    }
   ],
   "source": [
    "import numpy as np                 # Para operaciones matemáticas y matrices\n",
    "import matplotlib.pyplot as plt    # Para graficar\n",
    "\n",
    "#Vector de posición inicial\n",
    "posicion = np.array([3, 4, 0])\n",
    "print(\"Vector de posición original:\", posicion)\n",
    "\n",
    "#Definir el ángulo de rotación (45° a radianes)\n",
    "theta = np.radians(45)  # np.radians convierte grados a radianes\n",
    "\n",
    "#Crear la matriz de rotación alrededor del eje Z\n",
    "Rz = np.array([\n",
    "    [np.cos(theta), -np.sin(theta), 0], \n",
    "    [np.sin(theta),  np.cos(theta), 0],\n",
    "    [0,              0,             1]\n",
    "])\n",
    "print(\"\\nMatriz de rotación Rz (45° alrededor del eje Z):\\n\", np.round(Rz, 3))\n",
    "\n",
    "#Aplicar la rotación al vector original\n",
    "nueva_orientacion = Rz @ posicion  # equivalente a np.dot(Rz, posicion)\n",
    "print(\"\\nVector rotado:\", np.round(nueva_orientacion, 3))\n",
    "\n",
    "#Representar gráficamente los vectores\n",
    "plt.figure(figsize=(6,6))\n",
    "plt.axhline(0, color=\"black\", linewidth=0.8)  # eje X\n",
    "plt.axvline(0, color=\"black\", linewidth=0.8)  # eje Y\n",
    "\n",
    "# Vector original (azul)\n",
    "plt.quiver(0, 0, posicion[0], posicion[1],\n",
    "           angles='xy', scale_units='xy', scale=1,\n",
    "           color='blue', label='Vector original')\n",
    "\n",
    "# Vector rotado (rojo)\n",
    "plt.quiver(0, 0, nueva_orientacion[0], nueva_orientacion[1],\n",
    "           angles='xy', scale_units='xy', scale=1,\n",
    "           color='red', label='Vector rotado')\n",
    "\n",
    "# Configuración de los ejes y título\n",
    "plt.xlim(-6, 6)\n",
    "plt.ylim(-6, 6)\n",
    "plt.gca().set_aspect('equal', adjustable='box')\n",
    "plt.legend()\n",
    "plt.title(\"Rotación 45° alrededor del eje Z\")\n",
    "plt.grid(True)\n",
    "plt.show()"
   ]
  },
  {
   "cell_type": "code",
   "execution_count": null,
   "id": "3abeca05-bf9f-44d9-8b27-df9f583a3f61",
   "metadata": {},
   "outputs": [],
   "source": [
    "Ejericicio 3 - Inversa de una transformacion homogenea. Calcular la inversa de T y verificar que T*T(-1) sea la matriz identidad"
   ]
  },
  {
   "cell_type": "code",
   "execution_count": 14,
   "id": "5554c2f5-dbef-47f9-b84a-c289f82e06c1",
   "metadata": {},
   "outputs": [
    {
     "name": "stdout",
     "output_type": "stream",
     "text": [
      "Inversa de T:\n",
      " [[ 0.  1.  0. -2.]\n",
      " [-1.  0.  0.  3.]\n",
      " [ 0.  0.  1. -1.]\n",
      " [ 0.  0.  0.  1.]]\n",
      "\n",
      "Producto T * T_inv (debe ser identidad):\n",
      " [[1. 0. 0. 0.]\n",
      " [0. 1. 0. 0.]\n",
      " [0. 0. 1. 0.]\n",
      " [0. 0. 0. 1.]]\n"
     ]
    }
   ],
   "source": [
    "import numpy as np\n",
    "# FUNCIÓN: inversa(T)\n",
    "# Calcula la inversa de una matriz de transformación homogénea 4x4\n",
    "def inversa(T):\n",
    "    # Extraer la submatriz de rotación (las primeras 3 filas y 3 columnas)\n",
    "    R = T[0:3, 0:3]\n",
    "    \n",
    "    # Extraer el vector de traslación (última columna, sin incluir la última fila)\n",
    "    P = T[0:3, 3]\n",
    "    \n",
    "    # Crear una matriz identidad 4x4 (base para construir la inversa)\n",
    "    T_inv = np.eye(4)\n",
    "    \n",
    "    # La parte de rotación de la inversa es la transpuesta de la rotación original (R^T)\n",
    "    T_inv[0:3, 0:3] = R.T\n",
    "    \n",
    "    # La parte de traslación de la inversa es -R^T * P\n",
    "    # Esto \"revierte\" el desplazamiento en el nuevo sistema de coordenadas\n",
    "    T_inv[0:3, 3] = -R.T @ P\n",
    "    \n",
    "    # Retornar la matriz inversa homogénea\n",
    "    return T_inv\n",
    "\n",
    "# Creamos una matriz de transformación homogénea T (rotación + traslación)\n",
    "T = np.array([\n",
    "    [0, -1, 0, 3],   # Rotación + desplazamiento en x\n",
    "    [1,  0, 0, 2],   # Rotación + desplazamiento en y\n",
    "    [0,  0, 1, 1],   # Sin rotación en z, desplazamiento en z\n",
    "    [0,  0, 0, 1]    # Última fila fija en las transformaciones homogéneas\n",
    "])\n",
    "\n",
    "# Calcular la inversa de T\n",
    "T_inv = inversa(T)\n",
    "\n",
    "# Mostrar la matriz inversa\n",
    "print(\"Inversa de T:\\n\", T_inv)\n",
    "\n",
    "# Verificar que T * T_inv sea aproximadamente la matriz identidad\n",
    "print(\"\\nProducto T * T_inv (debe ser identidad):\\n\", np.round(T @ T_inv, 6))\n"
   ]
  },
  {
   "cell_type": "code",
   "execution_count": null,
   "id": "8746e4a3-693d-4b43-9925-78b16b515828",
   "metadata": {},
   "outputs": [],
   "source": [
    "Reto: Implementar esta funcion para un conjunto de transformaciones almacenadas en una lista"
   ]
  },
  {
   "cell_type": "code",
   "execution_count": 22,
   "id": "61796a0a-9db4-43b3-86eb-fdf5e16a9a1f",
   "metadata": {},
   "outputs": [
    {
     "name": "stdout",
     "output_type": "stream",
     "text": [
      "\n",
      " Transformación 1:\n",
      " [[ 0 -1  0  3]\n",
      " [ 1  0  0  2]\n",
      " [ 0  0  1  1]\n",
      " [ 0  0  0  1]]\n",
      " Inversa 1:\n",
      " [[ 0.  1.  0. -2.]\n",
      " [-1.  0.  0.  3.]\n",
      " [ 0.  0.  1. -1.]\n",
      " [ 0.  0.  0.  1.]]\n",
      " Verificación T * T_inv ≈ I:\n",
      " [[1. 0. 0. 0.]\n",
      " [0. 1. 0. 0.]\n",
      " [0. 0. 1. 0.]\n",
      " [0. 0. 0. 1.]]\n",
      "\n",
      " Transformación 2:\n",
      " [[ 1  0  0  4]\n",
      " [ 0  1  0 -2]\n",
      " [ 0  0  1  0]\n",
      " [ 0  0  0  1]]\n",
      " Inversa 2:\n",
      " [[ 1.  0.  0. -4.]\n",
      " [ 0.  1.  0.  2.]\n",
      " [ 0.  0.  1.  0.]\n",
      " [ 0.  0.  0.  1.]]\n",
      " Verificación T * T_inv ≈ I:\n",
      " [[1. 0. 0. 0.]\n",
      " [0. 1. 0. 0.]\n",
      " [0. 0. 1. 0.]\n",
      " [0. 0. 0. 1.]]\n",
      "\n",
      " Transformación 3:\n",
      " [[ 0  0  1  0]\n",
      " [ 0  1  0  5]\n",
      " [-1  0  0  2]\n",
      " [ 0  0  0  1]]\n",
      " Inversa 3:\n",
      " [[ 0.  0. -1.  2.]\n",
      " [ 0.  1.  0. -5.]\n",
      " [ 1.  0.  0.  0.]\n",
      " [ 0.  0.  0.  1.]]\n",
      " Verificación T * T_inv ≈ I:\n",
      " [[1. 0. 0. 0.]\n",
      " [0. 1. 0. 0.]\n",
      " [0. 0. 1. 0.]\n",
      " [0. 0. 0. 1.]]\n",
      "\n",
      "===== TODAS LAS INVERSAS =====\n",
      "\n",
      "Inversa 1:\n",
      "[[ 0.  1.  0. -2.]\n",
      " [-1.  0.  0.  3.]\n",
      " [ 0.  0.  1. -1.]\n",
      " [ 0.  0.  0.  1.]]\n",
      "\n",
      "Inversa 2:\n",
      "[[ 1.  0.  0. -4.]\n",
      " [ 0.  1.  0.  2.]\n",
      " [ 0.  0.  1.  0.]\n",
      " [ 0.  0.  0.  1.]]\n",
      "\n",
      "Inversa 3:\n",
      "[[ 0.  0. -1.  2.]\n",
      " [ 0.  1.  0. -5.]\n",
      " [ 1.  0.  0.  0.]\n",
      " [ 0.  0.  0.  1.]]\n"
     ]
    }
   ],
   "source": [
    "import numpy as np\n",
    "# FUNCIÓN: inversa(T)\n",
    "# Calcula la inversa de una matriz de transformación homogénea 4x4\n",
    "\n",
    "def inversa(T):\n",
    "    # Extraer la submatriz de rotación (3x3)\n",
    "    R = T[0:3, 0:3]\n",
    "    \n",
    "    # Extraer el vector de traslación (columna 4, sin la última fila)\n",
    "    P = T[0:3, 3]\n",
    "    \n",
    "    # Crear matriz identidad 4x4 (base)\n",
    "    T_inv = np.eye(4)\n",
    "    \n",
    "    # R^T es la rotación inversa\n",
    "    T_inv[0:3, 0:3] = R.T\n",
    "    \n",
    "    # -R^T * P revierte la traslación\n",
    "    T_inv[0:3, 3] = -R.T @ P\n",
    "    \n",
    "    return T_inv\n",
    "\n",
    "# CONJUNTO DE TRANSFORMACIONES HOMOGÉNEAS (lista)\n",
    "transformaciones = [\n",
    "    np.array([[0, -1, 0, 3],\n",
    "              [1,  0, 0, 2],\n",
    "              [0,  0, 1, 1],\n",
    "              [0,  0, 0, 1]]),\n",
    "\n",
    "    np.array([[1, 0, 0, 4],\n",
    "              [0, 1, 0, -2],\n",
    "              [0, 0, 1, 0],\n",
    "              [0, 0, 0, 1]]),\n",
    "\n",
    "    np.array([[0, 0, 1, 0],\n",
    "              [0, 1, 0, 5],\n",
    "              [-1, 0, 0, 2],\n",
    "              [0, 0, 0, 1]])\n",
    "]\n",
    "# APLICAR LA FUNCIÓN INVERSA A CADA MATRIZ EN LA LISTA\n",
    "inversas = []  # Lista vacía para guardar las matrices inversas\n",
    "\n",
    "for i, T in enumerate(transformaciones):\n",
    "    T_inv = inversa(T)            # Calcular la inversa de la matriz actual\n",
    "    inversas.append(T_inv)        # Guardarla en la lista\n",
    "    print(f\"\\n Transformación {i+1}:\\n\", T)\n",
    "    print(f\" Inversa {i+1}:\\n\", np.round(T_inv, 3))\n",
    "    print(f\" Verificación T * T_inv ≈ I:\\n\", np.round(T @ T_inv, 3))\n",
    "    \n",
    "#Mostrar todas las inversas al final\n",
    "print(\"\\n===== TODAS LAS INVERSAS =====\")\n",
    "for i, T_inv in enumerate(inversas):\n",
    "    print(f\"\\nInversa {i+1}:\\n{np.round(T_inv, 3)}\")\n"
   ]
  },
  {
   "cell_type": "code",
   "execution_count": null,
   "id": "940ba0b9-2520-45c1-8695-db0d38d3498d",
   "metadata": {},
   "outputs": [],
   "source": []
  }
 ],
 "metadata": {
  "kernelspec": {
   "display_name": "Python [conda env:anaconda3]",
   "language": "python",
   "name": "conda-env-anaconda3-py"
  },
  "language_info": {
   "codemirror_mode": {
    "name": "ipython",
    "version": 3
   },
   "file_extension": ".py",
   "mimetype": "text/x-python",
   "name": "python",
   "nbconvert_exporter": "python",
   "pygments_lexer": "ipython3",
   "version": "3.13.5"
  }
 },
 "nbformat": 4,
 "nbformat_minor": 5
}
